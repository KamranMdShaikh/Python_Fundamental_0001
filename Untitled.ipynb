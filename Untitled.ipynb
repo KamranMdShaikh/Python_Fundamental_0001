{
 "cells": [
  {
   "cell_type": "code",
   "execution_count": 5,
   "metadata": {},
   "outputs": [],
   "source": [
    "import numpy as np"
   ]
  },
  {
   "cell_type": "code",
   "execution_count": null,
   "metadata": {},
   "outputs": [],
   "source": []
  },
  {
   "cell_type": "code",
   "execution_count": 16,
   "metadata": {},
   "outputs": [],
   "source": [
    "\n",
    "nums3=[-2,-1,1,5]\n",
    "nums2=[-1,0,2,5,6]\n",
    "nums4= [1,2,3,9,7,5,10,55,35,-5,-2,-1,0,-13]\n",
    "nums= [1,2,3,5,55,-5,-2,-1,0,-13]"
   ]
  },
  {
   "cell_type": "code",
   "execution_count": 2,
   "metadata": {},
   "outputs": [],
   "source": [
    "nums.sort()"
   ]
  },
  {
   "cell_type": "code",
   "execution_count": 3,
   "metadata": {
    "scrolled": true
   },
   "outputs": [
    {
     "name": "stdout",
     "output_type": "stream",
     "text": [
      "[-13, -5, -2, -1, 0, 1, 2, 3, 5, 55]\n"
     ]
    }
   ],
   "source": [
    "print(nums)"
   ]
  },
  {
   "cell_type": "code",
   "execution_count": 5,
   "metadata": {},
   "outputs": [
    {
     "ename": "NameError",
     "evalue": "name 'maximumProduct' is not defined",
     "output_type": "error",
     "traceback": [
      "\u001b[1;31m---------------------------------------------------------------------------\u001b[0m",
      "\u001b[1;31mNameError\u001b[0m                                 Traceback (most recent call last)",
      "\u001b[1;32m<ipython-input-5-d418c370d638>\u001b[0m in \u001b[0;36m<module>\u001b[1;34m\u001b[0m\n\u001b[0;32m      9\u001b[0m         \u001b[1;32mreturn\u001b[0m \u001b[0mmax\u001b[0m\u001b[1;33m(\u001b[0m\u001b[0mx1\u001b[0m\u001b[1;33m,\u001b[0m\u001b[0mx2\u001b[0m\u001b[1;33m)\u001b[0m\u001b[1;33m\u001b[0m\u001b[1;33m\u001b[0m\u001b[0m\n\u001b[0;32m     10\u001b[0m \u001b[1;33m\u001b[0m\u001b[0m\n\u001b[1;32m---> 11\u001b[1;33m \u001b[0mmaximumProduct\u001b[0m\u001b[1;33m(\u001b[0m\u001b[0mnums\u001b[0m\u001b[1;33m)\u001b[0m\u001b[1;33m\u001b[0m\u001b[1;33m\u001b[0m\u001b[0m\n\u001b[0m",
      "\u001b[1;31mNameError\u001b[0m: name 'maximumProduct' is not defined"
     ]
    }
   ],
   "source": [
    "class Solution(object):\n",
    "    def maximumProduct(self, nums):\n",
    "        nums= sorted(nums)\n",
    "\n",
    "        x1 = nums[0]*nums[1]*nums[-1]\n",
    "        x2 = nums[-1]*nums[-2]*nums[-3]\n",
    "\n",
    "\n",
    "        return max(x1,x2)\n",
    "\n"
   ]
  },
  {
   "cell_type": "code",
   "execution_count": 55,
   "metadata": {},
   "outputs": [
    {
     "name": "stdout",
     "output_type": "stream",
     "text": [
      "3575\n"
     ]
    }
   ],
   "source": [
    "if nums[0]*nums[1] > nums[-2]*nums[-3]:\n",
    "    if nums[0]*nums[1]*nums[2]> nums[0]*nums[1]*nums[-1]:\n",
    "        print(nums[0]*nums[1]*nums[2])\n",
    "    else:\n",
    "        print(nums[0]*nums[1]*nums[-1])\n",
    "\n",
    "else:\n",
    "    if nums[-2]*nums[-3]*nums[-1]> nums[-2]*nums[-3]*nums[-3]:\n",
    "        print(nums[-2]*nums[-3]*nums[-1])\n",
    "    else:\n",
    "        print( nums[-2]*nums[-3]*nums[-3])\n",
    "        \n",
    "    "
   ]
  },
  {
   "cell_type": "code",
   "execution_count": 19,
   "metadata": {},
   "outputs": [
    {
     "data": {
      "text/plain": [
       "35"
      ]
     },
     "execution_count": 19,
     "metadata": {},
     "output_type": "execute_result"
    }
   ],
   "source": [
    "nums[-2]"
   ]
  },
  {
   "cell_type": "code",
   "execution_count": 23,
   "metadata": {},
   "outputs": [
    {
     "name": "stdout",
     "output_type": "stream",
     "text": [
      "[-4, -3, -2, -1]\n"
     ]
    }
   ],
   "source": [
    "num1 = [-1,-2,-3,-4]\n",
    "num1.sort()\n",
    "print(num1)\n"
   ]
  },
  {
   "cell_type": "code",
   "execution_count": 20,
   "metadata": {},
   "outputs": [
    {
     "name": "stdout",
     "output_type": "stream",
     "text": [
      "[1, 2, 3, 9, 10]\n"
     ]
    }
   ],
   "source": [
    "num = [1,2,3,9,10]\n",
    "num.sort()\n",
    "print(num)"
   ]
  },
  {
   "cell_type": "code",
   "execution_count": 22,
   "metadata": {},
   "outputs": [
    {
     "data": {
      "text/plain": [
       "270"
      ]
     },
     "execution_count": 22,
     "metadata": {},
     "output_type": "execute_result"
    }
   ],
   "source": [
    "num[-1]*num[-2]*num[-3]"
   ]
  },
  {
   "cell_type": "code",
   "execution_count": null,
   "metadata": {},
   "outputs": [],
   "source": []
  },
  {
   "cell_type": "code",
   "execution_count": 30,
   "metadata": {},
   "outputs": [],
   "source": [
    "account=[[1,8,96,5],[1,2,3], [3,2,1], [5,6,7,8]]\n",
    "np.b= [1,2,3]"
   ]
  },
  {
   "cell_type": "code",
   "execution_count": 31,
   "metadata": {},
   "outputs": [
    {
     "data": {
      "text/plain": [
       "6"
      ]
     },
     "execution_count": 31,
     "metadata": {},
     "output_type": "execute_result"
    }
   ],
   "source": [
    "np.sum(b)"
   ]
  },
  {
   "cell_type": "code",
   "execution_count": null,
   "metadata": {},
   "outputs": [],
   "source": []
  },
  {
   "cell_type": "code",
   "execution_count": 32,
   "metadata": {},
   "outputs": [
    {
     "name": "stdout",
     "output_type": "stream",
     "text": [
      "1\n",
      "2\n",
      "3\n"
     ]
    }
   ],
   "source": [
    "for y in b:\n",
    "    print(y)\n",
    "    np.sum(x)"
   ]
  },
  {
   "cell_type": "code",
   "execution_count": null,
   "metadata": {},
   "outputs": [],
   "source": []
  },
  {
   "cell_type": "code",
   "execution_count": 41,
   "metadata": {},
   "outputs": [
    {
     "data": {
      "text/plain": [
       "110"
      ]
     },
     "execution_count": 41,
     "metadata": {},
     "output_type": "execute_result"
    }
   ],
   "source": [
    "sumn=[]\n",
    "for x in account:\n",
    "    c=np.sum(x)\n",
    "    sumn.append(c)\n",
    "sumn.sort()\n",
    "sumn[-1]"
   ]
  },
  {
   "cell_type": "code",
   "execution_count": 43,
   "metadata": {},
   "outputs": [],
   "source": [
    "m = [1,2,3,5,8,654,6,54,345,12,36,534]"
   ]
  },
  {
   "cell_type": "code",
   "execution_count": 44,
   "metadata": {},
   "outputs": [
    {
     "data": {
      "text/plain": [
       "12"
      ]
     },
     "execution_count": 44,
     "metadata": {},
     "output_type": "execute_result"
    }
   ],
   "source": [
    "len(m)"
   ]
  },
  {
   "cell_type": "code",
   "execution_count": 45,
   "metadata": {},
   "outputs": [
    {
     "ename": "SyntaxError",
     "evalue": "invalid syntax (<ipython-input-45-b9abf1babece>, line 1)",
     "output_type": "error",
     "traceback": [
      "\u001b[1;36m  File \u001b[1;32m\"<ipython-input-45-b9abf1babece>\"\u001b[1;36m, line \u001b[1;32m1\u001b[0m\n\u001b[1;33m    m[]\u001b[0m\n\u001b[1;37m      ^\u001b[0m\n\u001b[1;31mSyntaxError\u001b[0m\u001b[1;31m:\u001b[0m invalid syntax\n"
     ]
    }
   ],
   "source": [
    "m[]\n",
    "for i in n:\n",
    "    m[i]"
   ]
  },
  {
   "cell_type": "code",
   "execution_count": null,
   "metadata": {},
   "outputs": [],
   "source": []
  },
  {
   "cell_type": "code",
   "execution_count": null,
   "metadata": {},
   "outputs": [],
   "source": []
  },
  {
   "cell_type": "code",
   "execution_count": 28,
   "metadata": {},
   "outputs": [
    {
     "name": "stdout",
     "output_type": "stream",
     "text": [
      "Not\n"
     ]
    }
   ],
   "source": [
    "x = 3\n",
    "y = np.sqrt(x)\n",
    "y\n",
    "m = y%1\n",
    "if m == 0:\n",
    "    print(\"Perfect square\")\n",
    "else:\n",
    "    print(\"Not\")"
   ]
  },
  {
   "cell_type": "code",
   "execution_count": 44,
   "metadata": {},
   "outputs": [],
   "source": [
    "num=3\n",
    "import numpy as np\n",
    "class Solution(object):\n",
    "    def isPerfectSquare(self, num):\n",
    "        y = np.sqrt(num)\n",
    "        m = y%1\n",
    "        if m == 0:\n",
    "            return true\n",
    "        else:\n",
    "            return false"
   ]
  },
  {
   "cell_type": "code",
   "execution_count": null,
   "metadata": {},
   "outputs": [],
   "source": []
  },
  {
   "cell_type": "code",
   "execution_count": 30,
   "metadata": {},
   "outputs": [
    {
     "ename": "NameError",
     "evalue": "name 'numpy' is not defined",
     "output_type": "error",
     "traceback": [
      "\u001b[1;31m---------------------------------------------------------------------------\u001b[0m",
      "\u001b[1;31mNameError\u001b[0m                                 Traceback (most recent call last)",
      "\u001b[1;32m<ipython-input-30-4e2ed80094b8>\u001b[0m in \u001b[0;36m<module>\u001b[1;34m\u001b[0m\n\u001b[1;32m----> 1\u001b[1;33m \u001b[0mnumpy\u001b[0m\u001b[1;33m.\u001b[0m\u001b[0mx\u001b[0m\u001b[1;33m=\u001b[0m \u001b[1;33m[\u001b[0m\u001b[1;36m1\u001b[0m\u001b[1;33m,\u001b[0m\u001b[1;36m1\u001b[0m\u001b[1;33m,\u001b[0m\u001b[1;36m1\u001b[0m\u001b[1;33m,\u001b[0m\u001b[1;36m5\u001b[0m\u001b[1;33m,\u001b[0m\u001b[1;36m7\u001b[0m\u001b[1;33m]\u001b[0m\u001b[1;33m\u001b[0m\u001b[1;33m\u001b[0m\u001b[0m\n\u001b[0m",
      "\u001b[1;31mNameError\u001b[0m: name 'numpy' is not defined"
     ]
    }
   ],
   "source": [
    "numpy.x= [1,1,1,5,7]"
   ]
  },
  {
   "cell_type": "code",
   "execution_count": 27,
   "metadata": {},
   "outputs": [
    {
     "ename": "NameError",
     "evalue": "name 'unique' is not defined",
     "output_type": "error",
     "traceback": [
      "\u001b[1;31m---------------------------------------------------------------------------\u001b[0m",
      "\u001b[1;31mNameError\u001b[0m                                 Traceback (most recent call last)",
      "\u001b[1;32m<ipython-input-27-5c63a9c4b38f>\u001b[0m in \u001b[0;36m<module>\u001b[1;34m\u001b[0m\n\u001b[1;32m----> 1\u001b[1;33m \u001b[0munique\u001b[0m\u001b[1;33m.\u001b[0m\u001b[0mx\u001b[0m\u001b[1;33m\u001b[0m\u001b[1;33m\u001b[0m\u001b[0m\n\u001b[0m",
      "\u001b[1;31mNameError\u001b[0m: name 'unique' is not defined"
     ]
    }
   ],
   "source": [
    "unique.x"
   ]
  },
  {
   "cell_type": "code",
   "execution_count": 43,
   "metadata": {},
   "outputs": [
    {
     "name": "stdout",
     "output_type": "stream",
     "text": [
      "Yes\n"
     ]
    }
   ],
   "source": [
    "import pandas as pd\n",
    "import numpy as np\n",
    "\n",
    "x = [10, 20, 10, 30, 40, 40]\n",
    "y = np.array(x)\n",
    "z = np.unique(y)\n",
    "len(z)\n",
    "\n",
    "if len(z) == len(x):\n",
    "    print(\"No\")\n",
    "else:\n",
    "    print(\"Yes\")\n"
   ]
  },
  {
   "cell_type": "code",
   "execution_count": null,
   "metadata": {},
   "outputs": [],
   "source": []
  },
  {
   "cell_type": "code",
   "execution_count": 9,
   "metadata": {},
   "outputs": [
    {
     "name": "stdout",
     "output_type": "stream",
     "text": [
      "16.0\n"
     ]
    }
   ],
   "source": [
    "a=33.5555\n",
    "b=2\n",
    "print(a//b)"
   ]
  },
  {
   "cell_type": "code",
   "execution_count": 4,
   "metadata": {},
   "outputs": [
    {
     "name": "stdout",
     "output_type": "stream",
     "text": [
      "x // y = 3\n"
     ]
    }
   ],
   "source": [
    "x = 15\n",
    "y = 4\n",
    "print('x // y =',x//y)"
   ]
  },
  {
   "cell_type": "code",
   "execution_count": 10,
   "metadata": {},
   "outputs": [
    {
     "name": "stdout",
     "output_type": "stream",
     "text": [
      "3\n"
     ]
    }
   ],
   "source": [
    "a= True \n",
    "b= False\n",
    "c= False \n",
    "\n",
    "\n",
    "if not a or b:\n",
    "    print(1)\n",
    "elif not a or not b and c:\n",
    "    print(2)\n",
    "elif not a or not b or not b and a:\n",
    "    print (3)\n",
    "else:\n",
    "    print (4)\n",
    "    "
   ]
  },
  {
   "cell_type": "code",
   "execution_count": 17,
   "metadata": {},
   "outputs": [
    {
     "data": {
      "text/plain": [
       "False"
      ]
     },
     "execution_count": 17,
     "metadata": {},
     "output_type": "execute_result"
    }
   ],
   "source": [
    "not a or not b and c"
   ]
  },
  {
   "cell_type": "code",
   "execution_count": 19,
   "metadata": {},
   "outputs": [
    {
     "data": {
      "text/plain": [
       "'Undefined'"
      ]
     },
     "execution_count": 19,
     "metadata": {},
     "output_type": "execute_result"
    }
   ],
   "source": [
    "def sr(x):\n",
    "    if x < 0:\n",
    "        return \"Undefined\"\n",
    "\n",
    "sr(-5)"
   ]
  },
  {
   "cell_type": "code",
   "execution_count": 21,
   "metadata": {},
   "outputs": [
    {
     "name": "stdout",
     "output_type": "stream",
     "text": [
      "[0, 3, 6, 9]\n"
     ]
    }
   ],
   "source": [
    "int_list=[]\n",
    "for i in range(0,10,3):\n",
    "    int_list.append(i)\n",
    "print(int_list)"
   ]
  },
  {
   "cell_type": "code",
   "execution_count": 23,
   "metadata": {},
   "outputs": [
    {
     "name": "stdout",
     "output_type": "stream",
     "text": [
      "0\n",
      "3\n",
      "6\n",
      "9\n"
     ]
    }
   ],
   "source": [
    "for w in range(0,10,3):\n",
    "    print(w)"
   ]
  },
  {
   "cell_type": "code",
   "execution_count": 27,
   "metadata": {},
   "outputs": [
    {
     "ename": "TypeError",
     "evalue": "can only concatenate str (not \"int\") to str",
     "output_type": "error",
     "traceback": [
      "\u001b[1;31m---------------------------------------------------------------------------\u001b[0m",
      "\u001b[1;31mTypeError\u001b[0m                                 Traceback (most recent call last)",
      "\u001b[1;32m<ipython-input-27-a1c0425787a3>\u001b[0m in \u001b[0;36m<module>\u001b[1;34m\u001b[0m\n\u001b[0;32m      1\u001b[0m \u001b[0mcity\u001b[0m \u001b[1;33m=\u001b[0m\u001b[1;34m'c'\u001b[0m\u001b[1;33m\u001b[0m\u001b[1;33m\u001b[0m\u001b[0m\n\u001b[0;32m      2\u001b[0m \u001b[0ms\u001b[0m \u001b[1;33m=\u001b[0m \u001b[1;36m77\u001b[0m\u001b[1;33m\u001b[0m\u001b[1;33m\u001b[0m\u001b[0m\n\u001b[1;32m----> 3\u001b[1;33m \u001b[0mprint\u001b[0m \u001b[1;33m(\u001b[0m\u001b[0mcity\u001b[0m\u001b[1;33m+\u001b[0m\u001b[0ms\u001b[0m\u001b[1;33m)\u001b[0m\u001b[1;33m\u001b[0m\u001b[1;33m\u001b[0m\u001b[0m\n\u001b[0m",
      "\u001b[1;31mTypeError\u001b[0m: can only concatenate str (not \"int\") to str"
     ]
    }
   ],
   "source": [
    "city ='c'\n",
    "s = 77\n",
    "print (city+s)"
   ]
  },
  {
   "cell_type": "code",
   "execution_count": 28,
   "metadata": {},
   "outputs": [
    {
     "ename": "ValueError",
     "evalue": "invalid literal for int() with base 10: 'Py'",
     "output_type": "error",
     "traceback": [
      "\u001b[1;31m---------------------------------------------------------------------------\u001b[0m",
      "\u001b[1;31mValueError\u001b[0m                                Traceback (most recent call last)",
      "\u001b[1;32m<ipython-input-28-5a9c020becfc>\u001b[0m in \u001b[0;36m<module>\u001b[1;34m\u001b[0m\n\u001b[1;32m----> 1\u001b[1;33m \u001b[0mint\u001b[0m\u001b[1;33m(\u001b[0m\u001b[1;34m'Py'\u001b[0m\u001b[1;33m)\u001b[0m\u001b[1;33m\u001b[0m\u001b[1;33m\u001b[0m\u001b[0m\n\u001b[0m",
      "\u001b[1;31mValueError\u001b[0m: invalid literal for int() with base 10: 'Py'"
     ]
    }
   ],
   "source": [
    "int('Py')"
   ]
  },
  {
   "cell_type": "code",
   "execution_count": 29,
   "metadata": {},
   "outputs": [
    {
     "ename": "ZeroDivisionError",
     "evalue": "division by zero",
     "output_type": "error",
     "traceback": [
      "\u001b[1;31m---------------------------------------------------------------------------\u001b[0m",
      "\u001b[1;31mZeroDivisionError\u001b[0m                         Traceback (most recent call last)",
      "\u001b[1;32m<ipython-input-29-7a20acce5ae8>\u001b[0m in \u001b[0;36m<module>\u001b[1;34m\u001b[0m\n\u001b[1;32m----> 1\u001b[1;33m \u001b[1;36m1\u001b[0m\u001b[1;33m*\u001b[0m\u001b[1;33m(\u001b[0m\u001b[1;36m1\u001b[0m\u001b[1;33m/\u001b[0m\u001b[1;36m0\u001b[0m\u001b[1;33m)\u001b[0m\u001b[1;33m\u001b[0m\u001b[1;33m\u001b[0m\u001b[0m\n\u001b[0m",
      "\u001b[1;31mZeroDivisionError\u001b[0m: division by zero"
     ]
    }
   ],
   "source": [
    "1*(1/0)"
   ]
  },
  {
   "cell_type": "code",
   "execution_count": 30,
   "metadata": {},
   "outputs": [
    {
     "ename": "SyntaxError",
     "evalue": "invalid syntax (<ipython-input-30-5a663ae8f2ff>, line 1)",
     "output_type": "error",
     "traceback": [
      "\u001b[1;36m  File \u001b[1;32m\"<ipython-input-30-5a663ae8f2ff>\"\u001b[1;36m, line \u001b[1;32m1\u001b[0m\n\u001b[1;33m    print'HL'\u001b[0m\n\u001b[1;37m            ^\u001b[0m\n\u001b[1;31mSyntaxError\u001b[0m\u001b[1;31m:\u001b[0m invalid syntax\n"
     ]
    }
   ],
   "source": [
    "print'HL'"
   ]
  },
  {
   "cell_type": "code",
   "execution_count": null,
   "metadata": {},
   "outputs": [],
   "source": []
  },
  {
   "cell_type": "code",
   "execution_count": null,
   "metadata": {},
   "outputs": [],
   "source": [
    "class Solution(object):\n",
    "    def maximumProduct(self, nums):\n",
    "        nums= sorted(nums)\n",
    "        x= nums[0]*nums[1]*nums[-1]"
   ]
  },
  {
   "cell_type": "code",
   "execution_count": null,
   "metadata": {},
   "outputs": [],
   "source": [
    "class Solution(object):\n",
    "    def maximumProduct(self, nums):\n",
    "        nums= sorted(nums)\n",
    "\n",
    "        x1 = nums[0]*nums[1]*nums[-1]\n",
    "        x2 = nums[-1]*nums[-2]*nums[-3]\n",
    "\n",
    "\n",
    "        return max(x1,x2)\n",
    "\n"
   ]
  },
  {
   "cell_type": "code",
   "execution_count": 49,
   "metadata": {},
   "outputs": [
    {
     "name": "stdout",
     "output_type": "stream",
     "text": [
      "[1, 4, 2, 3, 3, 2, 4, 1]\n"
     ]
    }
   ],
   "source": [
    "nums =[1,2,3,4,4,3,2,1]\n",
    "\n",
    "\n",
    "a = []\n",
    "n=int(len(nums)/2)\n",
    "\n",
    "for i in range(n):\n",
    "    a.append(nums[i])\n",
    "    a.append(nums[i+n])\n",
    "\n",
    "print(a)"
   ]
  },
  {
   "cell_type": "code",
   "execution_count": 33,
   "metadata": {},
   "outputs": [
    {
     "data": {
      "text/plain": [
       "5"
      ]
     },
     "execution_count": 33,
     "metadata": {},
     "output_type": "execute_result"
    }
   ],
   "source": [
    "nums = [5,6,7,8]\n",
    "a = []\n",
    "a1 = []\n",
    "a2 = []\n",
    "n=int(len(nums)/2)\n",
    "\n",
    "for i in range(n):\n",
    "    a1= a1.append(nums[i])\n",
    "    a2= a2.append(nums[i+n])\n",
    "\n",
    "print(a1,a2)"
   ]
  },
  {
   "cell_type": "code",
   "execution_count": 18,
   "metadata": {},
   "outputs": [
    {
     "data": {
      "text/plain": [
       "5.0"
      ]
     },
     "execution_count": 18,
     "metadata": {},
     "output_type": "execute_result"
    }
   ],
   "source": [
    "n=(len(nums)/2)\n",
    "n"
   ]
  },
  {
   "cell_type": "code",
   "execution_count": 28,
   "metadata": {},
   "outputs": [
    {
     "name": "stdout",
     "output_type": "stream",
     "text": [
      "0\n",
      "4\n",
      "8\n",
      "12\n",
      "16\n",
      "20\n",
      "24\n",
      "28\n",
      "32\n",
      "36\n",
      "40\n",
      "44\n",
      "48\n",
      "52\n",
      "56\n",
      "60\n",
      "64\n",
      "68\n",
      "72\n",
      "76\n",
      "80\n",
      "84\n",
      "88\n",
      "92\n",
      "96\n"
     ]
    }
   ],
   "source": [
    "for i in range (0,100,4):\n",
    "    print(i)"
   ]
  },
  {
   "cell_type": "code",
   "execution_count": null,
   "metadata": {},
   "outputs": [],
   "source": []
  },
  {
   "cell_type": "code",
   "execution_count": 17,
   "metadata": {},
   "outputs": [
    {
     "name": "stdout",
     "output_type": "stream",
     "text": [
      "[1, 2]\n",
      "[2, 1]\n"
     ]
    }
   ],
   "source": [
    "element = [1,5,7,9,15]\n",
    "target = 12\n",
    "\n",
    "\n",
    "for i in range(len(element)):\n",
    "    for j in range(len(element)):\n",
    "        s = element[i]+element[j]\n",
    "        if s==target:\n",
    "            print([i,j])\n",
    "            "
   ]
  },
  {
   "cell_type": "code",
   "execution_count": 18,
   "metadata": {},
   "outputs": [
    {
     "ename": "ZeroDivisionError",
     "evalue": "division by zero",
     "output_type": "error",
     "traceback": [
      "\u001b[1;31m---------------------------------------------------------------------------\u001b[0m",
      "\u001b[1;31mZeroDivisionError\u001b[0m                         Traceback (most recent call last)",
      "\u001b[1;32m<ipython-input-18-577e3eebc7a6>\u001b[0m in \u001b[0;36m<module>\u001b[1;34m\u001b[0m\n\u001b[1;32m----> 1\u001b[1;33m \u001b[0mx\u001b[0m\u001b[1;33m=\u001b[0m \u001b[1;36m0\u001b[0m\u001b[1;33m/\u001b[0m\u001b[1;36m0\u001b[0m\u001b[1;33m\u001b[0m\u001b[1;33m\u001b[0m\u001b[0m\n\u001b[0m\u001b[0;32m      2\u001b[0m \u001b[0mx\u001b[0m\u001b[1;33m\u001b[0m\u001b[1;33m\u001b[0m\u001b[0m\n",
      "\u001b[1;31mZeroDivisionError\u001b[0m: division by zero"
     ]
    }
   ],
   "source": [
    "x= 0/0\n",
    "x"
   ]
  },
  {
   "cell_type": "code",
   "execution_count": 59,
   "metadata": {},
   "outputs": [
    {
     "ename": "IndentationError",
     "evalue": "unindent does not match any outer indentation level (<tokenize>, line 33)",
     "output_type": "error",
     "traceback": [
      "\u001b[1;36m  File \u001b[1;32m\"<tokenize>\"\u001b[1;36m, line \u001b[1;32m33\u001b[0m\n\u001b[1;33m    if (count >= 5):\u001b[0m\n\u001b[1;37m    ^\u001b[0m\n\u001b[1;31mIndentationError\u001b[0m\u001b[1;31m:\u001b[0m unindent does not match any outer indentation level\n"
     ]
    }
   ],
   "source": [
    "theBoard = {'7': ' ' , '8': ' ' , '9': ' ' ,\n",
    "            '4': ' ' , '5': ' ' , '6': ' ' ,\n",
    "            '1': ' ' , '2': ' ' , '3': ' ' }\n",
    "            \n",
    "def printBoard(board):\n",
    "    print(board['7'] + '|' + board['8'] + '|' + board['9'])\n",
    "    print('-+-+-')\n",
    "    print(board['4'] + '|' + board['5'] + '|' + board['6'])\n",
    "    print('-+-+-')\n",
    "    print(board['1'] + '|' + board['2'] + '|' + board['3'])\n",
    "\n",
    "\n",
    "def game():\n",
    "\n",
    "    turn = 'X'\n",
    "    count = 0\n",
    "    \n",
    "    for i in range(10):\n",
    "            printBoard(theBoard)\n",
    "            print(\"It's your turn,\" + turn + \".Move to which place?\")\n",
    "\n",
    "            move = input()        \n",
    "\n",
    "            if theBoard[move] == ' ':\n",
    "                theBoard[move] = turn\n",
    "                count += 1\n",
    "            else:\n",
    "                print(\"That place is already filled.\\nMove to which place?\")\n",
    "                continue\n",
    "                \n",
    "                \n",
    "# Now we will check if player X or O has won,for every move after 5 moves. \n",
    "        if (count >= 5):\n",
    "            if theBoard['7'] == theBoard['8'] == theBoard['9'] != ' ': # across the top\n",
    "                printBoard(theBoard)\n",
    "                print(\"\\nGame Over.\\n\")                \n",
    "                print(\" **** \" +turn + \" won. ****\")                \n",
    "                break\n",
    "            elif theBoard['4'] == theBoard['5'] == theBoard['6'] != ' ': # across the middle\n",
    "                printBoard(theBoard)\n",
    "                print(\"\\nGame Over.\\n\")                \n",
    "                print(\" **** \" +turn + \" won. ****\")\n",
    "                break\n",
    "            elif theBoard['1'] == theBoard['2'] == theBoard['3'] != ' ': # across the bottom\n",
    "                printBoard(theBoard)\n",
    "                print(\"\\nGame Over.\\n\")                \n",
    "                print(\" **** \" +turn + \" won. ****\")\n",
    "                break\n",
    "            elif theBoard['1'] == theBoard['4'] == theBoard['7'] != ' ': # down the left side\n",
    "                printBoard(theBoard)\n",
    "                print(\"\\nGame Over.\\n\")                \n",
    "                print(\" **** \" +turn + \" won. ****\")\n",
    "                break\n",
    "            elif theBoard['2'] == theBoard['5'] == theBoard['8'] != ' ': # down the middle\n",
    "                printBoard(theBoard)\n",
    "                print(\"\\nGame Over.\\n\")                \n",
    "                print(\" **** \" +turn + \" won. ****\")\n",
    "                break\n",
    "            elif theBoard['3'] == theBoard['6'] == theBoard['9'] != ' ': # down the right side\n",
    "                printBoard(theBoard)\n",
    "                print(\"\\nGame Over.\\n\")                \n",
    "                print(\" **** \" +turn + \" won. ****\")\n",
    "                break \n",
    "            elif theBoard['7'] == theBoard['5'] == theBoard['3'] != ' ': # diagonal\n",
    "                printBoard(theBoard)\n",
    "                print(\"\\nGame Over.\\n\")                \n",
    "                print(\" **** \" +turn + \" won. ****\")\n",
    "                break\n",
    "            elif theBoard['1'] == theBoard['5'] == theBoard['9'] != ' ': # diagonal\n",
    "                printBoard(theBoard)\n",
    "                print(\"\\nGame Over.\\n\")                \n",
    "                print(\" **** \" +turn + \" won. ****\")\n",
    "                break \n",
    "\n",
    "        # If neither X nor O wins and the board is full, we'll declare the result as 'tie'.\n",
    "        if count == 9:\n",
    "            print(\"\\nGame Over.\\n\")                \n",
    "            print(\"It's a Tie!!\")\n",
    "\n",
    "        # we have to change the player after every move.\n",
    "        if turn =='X':\n",
    "            turn = 'O'\n",
    "        else:\n",
    "            turn = 'X' \n",
    "            \n",
    "board_keys = []\n",
    "\n",
    "for key in theBoard:\n",
    "    board_keys.append(key)\n",
    "    \n",
    "restart = input(\"Do want to play Again?(y/n)\")\n",
    "\n",
    "    if restart == \"y\" or restart == \"Y\":  \n",
    "        for key in board_keys:\n",
    "            theBoard[key] = \" \"\n",
    "\n",
    "        game()    \n",
    "\n",
    "        \n",
    "        \n",
    "#Implementation of Two Player Tic-Tac-Toe game in Python.\n",
    "\n",
    "''' We will make the board using dictionary \n",
    "    in which keys will be the location(i.e : top-left,mid-right,etc.)\n",
    "    and initialliy it's values will be empty space and then after every move \n",
    "    we will change the value according to player's choice of move. '''\n",
    "\n",
    "theBoard = {'7': ' ' , '8': ' ' , '9': ' ' ,\n",
    "            '4': ' ' , '5': ' ' , '6': ' ' ,\n",
    "            '1': ' ' , '2': ' ' , '3': ' ' }\n",
    "\n",
    "board_keys = []\n",
    "\n",
    "for key in theBoard:\n",
    "    board_keys.append(key)\n",
    "\n",
    "''' We will have to print the updated board after every move in the game and \n",
    "    thus we will make a function in which we'll define the printBoard function\n",
    "    so that we can easily print the board everytime by calling this function. '''\n",
    "\n",
    "def printBoard(board):\n",
    "    print(board['7'] + '|' + board['8'] + '|' + board['9'])\n",
    "    print('-+-+-')\n",
    "    print(board['4'] + '|' + board['5'] + '|' + board['6'])\n",
    "    print('-+-+-')\n",
    "    print(board['1'] + '|' + board['2'] + '|' + board['3'])\n",
    "\n",
    "# Now we'll write the main function which has all the gameplay functionality.\n",
    "def game():\n",
    "\n",
    "    turn = 'X'\n",
    "    count = 0\n",
    "\n",
    "\n",
    "    for i in range(10):\n",
    "        printBoard(theBoard)\n",
    "        print(\"It's your turn,\" + turn + \".Move to which place?\")\n",
    "\n",
    "        move = input()        \n",
    "\n",
    "        if theBoard[move] == ' ':\n",
    "            theBoard[move] = turn\n",
    "            count += 1\n",
    "        else:\n",
    "            print(\"That place is already filled.\\nMove to which place?\")\n",
    "            continue\n",
    "\n",
    "        # Now we will check if player X or O has won,for every move after 5 moves. \n",
    "        if count >= 5:\n",
    "            if theBoard['7'] == theBoard['8'] == theBoard['9'] != ' ': # across the top\n",
    "                printBoard(theBoard)\n",
    "                print(\"\\nGame Over.\\n\")                \n",
    "                print(\" **** \" +turn + \" won. ****\")                \n",
    "                break\n",
    "            elif theBoard['4'] == theBoard['5'] == theBoard['6'] != ' ': # across the middle\n",
    "                printBoard(theBoard)\n",
    "                print(\"\\nGame Over.\\n\")                \n",
    "                print(\" **** \" +turn + \" won. ****\")\n",
    "                break\n",
    "            elif theBoard['1'] == theBoard['2'] == theBoard['3'] != ' ': # across the bottom\n",
    "                printBoard(theBoard)\n",
    "                print(\"\\nGame Over.\\n\")                \n",
    "                print(\" **** \" +turn + \" won. ****\")\n",
    "                break\n",
    "            elif theBoard['1'] == theBoard['4'] == theBoard['7'] != ' ': # down the left side\n",
    "                printBoard(theBoard)\n",
    "                print(\"\\nGame Over.\\n\")                \n",
    "                print(\" **** \" +turn + \" won. ****\")\n",
    "                break\n",
    "            elif theBoard['2'] == theBoard['5'] == theBoard['8'] != ' ': # down the middle\n",
    "                printBoard(theBoard)\n",
    "                print(\"\\nGame Over.\\n\")                \n",
    "                print(\" **** \" +turn + \" won. ****\")\n",
    "                break\n",
    "            elif theBoard['3'] == theBoard['6'] == theBoard['9'] != ' ': # down the right side\n",
    "                printBoard(theBoard)\n",
    "                print(\"\\nGame Over.\\n\")                \n",
    "                print(\" **** \" +turn + \" won. ****\")\n",
    "                break \n",
    "            elif theBoard['7'] == theBoard['5'] == theBoard['3'] != ' ': # diagonal\n",
    "                printBoard(theBoard)\n",
    "                print(\"\\nGame Over.\\n\")                \n",
    "                print(\" **** \" +turn + \" won. ****\")\n",
    "                break\n",
    "            elif theBoard['1'] == theBoard['5'] == theBoard['9'] != ' ': # diagonal\n",
    "                printBoard(theBoard)\n",
    "                print(\"\\nGame Over.\\n\")                \n",
    "                print(\" **** \" +turn + \" won. ****\")\n",
    "                break \n",
    "\n",
    "        # If neither X nor O wins and the board is full, we'll declare the result as 'tie'.\n",
    "        if count == 9:\n",
    "            print(\"\\nGame Over.\\n\")                \n",
    "            print(\"It's a Tie!!\")\n",
    "\n",
    "        # Now we have to change the player after every move.\n",
    "        if turn =='X':\n",
    "            turn = 'O'\n",
    "        else:\n",
    "            turn = 'X'        \n",
    "    \n",
    "    # Now we will ask if player wants to restart the game or not.\n",
    "    restart = input(\"Do want to play Again?(y/n)\")\n",
    "    if restart == \"y\" or restart == \"Y\":  \n",
    "        for key in board_keys:\n",
    "            theBoard[key] = \" \"\n",
    "\n",
    "        game()\n",
    "\n",
    "if __name__ == \"__main__\":\n",
    "    game()"
   ]
  },
  {
   "cell_type": "code",
   "execution_count": 57,
   "metadata": {},
   "outputs": [
    {
     "ename": "IndentationError",
     "evalue": "unexpected indent (<ipython-input-57-0f92032cfd0a>, line 2)",
     "output_type": "error",
     "traceback": [
      "\u001b[1;36m  File \u001b[1;32m\"<ipython-input-57-0f92032cfd0a>\"\u001b[1;36m, line \u001b[1;32m2\u001b[0m\n\u001b[1;33m    if count >= 5:\u001b[0m\n\u001b[1;37m    ^\u001b[0m\n\u001b[1;31mIndentationError\u001b[0m\u001b[1;31m:\u001b[0m unexpected indent\n"
     ]
    }
   ],
   "source": [
    "# Now we will check if player X or O has won,for every move after 5 moves. \n",
    "        if count >= 5:\n",
    "            if theBoard['7'] == theBoard['8'] == theBoard['9'] != ' ': # across the top\n",
    "                printBoard(theBoard)\n",
    "                print(\"\\nGame Over.\\n\")                \n",
    "                print(\" **** \" +turn + \" won. ****\")                \n",
    "                break\n",
    "            elif theBoard['4'] == theBoard['5'] == theBoard['6'] != ' ': # across the middle\n",
    "                printBoard(theBoard)\n",
    "                print(\"\\nGame Over.\\n\")                \n",
    "                print(\" **** \" +turn + \" won. ****\")\n",
    "                break\n",
    "            elif theBoard['1'] == theBoard['2'] == theBoard['3'] != ' ': # across the bottom\n",
    "                printBoard(theBoard)\n",
    "                print(\"\\nGame Over.\\n\")                \n",
    "                print(\" **** \" +turn + \" won. ****\")\n",
    "                break\n",
    "            elif theBoard['1'] == theBoard['4'] == theBoard['7'] != ' ': # down the left side\n",
    "                printBoard(theBoard)\n",
    "                print(\"\\nGame Over.\\n\")                \n",
    "                print(\" **** \" +turn + \" won. ****\")\n",
    "                break\n",
    "            elif theBoard['2'] == theBoard['5'] == theBoard['8'] != ' ': # down the middle\n",
    "                printBoard(theBoard)\n",
    "                print(\"\\nGame Over.\\n\")                \n",
    "                print(\" **** \" +turn + \" won. ****\")\n",
    "                break\n",
    "            elif theBoard['3'] == theBoard['6'] == theBoard['9'] != ' ': # down the right side\n",
    "                printBoard(theBoard)\n",
    "                print(\"\\nGame Over.\\n\")                \n",
    "                print(\" **** \" +turn + \" won. ****\")\n",
    "                break \n",
    "            elif theBoard['7'] == theBoard['5'] == theBoard['3'] != ' ': # diagonal\n",
    "                printBoard(theBoard)\n",
    "                print(\"\\nGame Over.\\n\")                \n",
    "                print(\" **** \" +turn + \" won. ****\")\n",
    "                break\n",
    "            elif theBoard['1'] == theBoard['5'] == theBoard['9'] != ' ': # diagonal\n",
    "                printBoard(theBoard)\n",
    "                print(\"\\nGame Over.\\n\")                \n",
    "                print(\" **** \" +turn + \" won. ****\")\n",
    "                break \n",
    "\n",
    "        # If neither X nor O wins and the board is full, we'll declare the result as 'tie'.\n",
    "        if count == 9:\n",
    "            print(\"\\nGame Over.\\n\")                \n",
    "            print(\"It's a Tie!!\")\n",
    "\n",
    "        # we have to change the player after every move.\n",
    "        if turn =='X':\n",
    "            turn = 'O'\n",
    "        else:\n",
    "            turn = 'X' \n",
    "            \n",
    "board_keys = []\n",
    "\n",
    "for key in theBoard:\n",
    "    board_keys.append(key)\n",
    "    \n",
    "restart = input(\"Do want to play Again?(y/n)\")\n",
    "\n",
    "    if restart == \"y\" or restart == \"Y\":  \n",
    "        for key in board_keys:\n",
    "            theBoard[key] = \" \"\n",
    "\n",
    "        game()    \n",
    "\n",
    "        \n",
    "        \n",
    "#Implementation of Two Player Tic-Tac-Toe game in Python.\n",
    "\n",
    "''' We will make the board using dictionary \n",
    "    in which keys will be the location(i.e : top-left,mid-right,etc.)\n",
    "    and initialliy it's values will be empty space and then after every move \n",
    "    we will change the value according to player's choice of move. '''\n",
    "\n",
    "theBoard = {'7': ' ' , '8': ' ' , '9': ' ' ,\n",
    "            '4': ' ' , '5': ' ' , '6': ' ' ,\n",
    "            '1': ' ' , '2': ' ' , '3': ' ' }\n",
    "\n",
    "board_keys = []\n",
    "\n",
    "for key in theBoard:\n",
    "    board_keys.append(key)\n",
    "\n",
    "''' We will have to print the updated board after every move in the game and \n",
    "    thus we will make a function in which we'll define the printBoard function\n",
    "    so that we can easily print the board everytime by calling this function. '''\n",
    "\n",
    "def printBoard(board):\n",
    "    print(board['7'] + '|' + board['8'] + '|' + board['9'])\n",
    "    print('-+-+-')\n",
    "    print(board['4'] + '|' + board['5'] + '|' + board['6'])\n",
    "    print('-+-+-')\n",
    "    print(board['1'] + '|' + board['2'] + '|' + board['3'])\n",
    "\n",
    "# Now we'll write the main function which has all the gameplay functionality.\n",
    "def game():\n",
    "\n",
    "    turn = 'X'\n",
    "    count = 0\n",
    "\n",
    "\n",
    "    for i in range(10):\n",
    "        printBoard(theBoard)\n",
    "        print(\"It's your turn,\" + turn + \".Move to which place?\")\n",
    "\n",
    "        move = input()        \n",
    "\n",
    "        if theBoard[move] == ' ':\n",
    "            theBoard[move] = turn\n",
    "            count += 1\n",
    "        else:\n",
    "            print(\"That place is already filled.\\nMove to which place?\")\n",
    "            continue\n",
    "\n",
    "        # Now we will check if player X or O has won,for every move after 5 moves. \n",
    "        if count >= 5:\n",
    "            if theBoard['7'] == theBoard['8'] == theBoard['9'] != ' ': # across the top\n",
    "                printBoard(theBoard)\n",
    "                print(\"\\nGame Over.\\n\")                \n",
    "                print(\" **** \" +turn + \" won. ****\")                \n",
    "                break\n",
    "            elif theBoard['4'] == theBoard['5'] == theBoard['6'] != ' ': # across the middle\n",
    "                printBoard(theBoard)\n",
    "                print(\"\\nGame Over.\\n\")                \n",
    "                print(\" **** \" +turn + \" won. ****\")\n",
    "                break\n",
    "            elif theBoard['1'] == theBoard['2'] == theBoard['3'] != ' ': # across the bottom\n",
    "                printBoard(theBoard)\n",
    "                print(\"\\nGame Over.\\n\")                \n",
    "                print(\" **** \" +turn + \" won. ****\")\n",
    "                break\n",
    "            elif theBoard['1'] == theBoard['4'] == theBoard['7'] != ' ': # down the left side\n",
    "                printBoard(theBoard)\n",
    "                print(\"\\nGame Over.\\n\")                \n",
    "                print(\" **** \" +turn + \" won. ****\")\n",
    "                break\n",
    "            elif theBoard['2'] == theBoard['5'] == theBoard['8'] != ' ': # down the middle\n",
    "                printBoard(theBoard)\n",
    "                print(\"\\nGame Over.\\n\")                \n",
    "                print(\" **** \" +turn + \" won. ****\")\n",
    "                break\n",
    "            elif theBoard['3'] == theBoard['6'] == theBoard['9'] != ' ': # down the right side\n",
    "                printBoard(theBoard)\n",
    "                print(\"\\nGame Over.\\n\")                \n",
    "                print(\" **** \" +turn + \" won. ****\")\n",
    "                break \n",
    "            elif theBoard['7'] == theBoard['5'] == theBoard['3'] != ' ': # diagonal\n",
    "                printBoard(theBoard)\n",
    "                print(\"\\nGame Over.\\n\")                \n",
    "                print(\" **** \" +turn + \" won. ****\")\n",
    "                break\n",
    "            elif theBoard['1'] == theBoard['5'] == theBoard['9'] != ' ': # diagonal\n",
    "                printBoard(theBoard)\n",
    "                print(\"\\nGame Over.\\n\")                \n",
    "                print(\" **** \" +turn + \" won. ****\")\n",
    "                break \n",
    "\n",
    "        # If neither X nor O wins and the board is full, we'll declare the result as 'tie'.\n",
    "        if count == 9:\n",
    "            print(\"\\nGame Over.\\n\")                \n",
    "            print(\"It's a Tie!!\")\n",
    "\n",
    "        # Now we have to change the player after every move.\n",
    "        if turn =='X':\n",
    "            turn = 'O'\n",
    "        else:\n",
    "            turn = 'X'        \n",
    "    \n",
    "    # Now we will ask if player wants to restart the game or not.\n",
    "    restart = input(\"Do want to play Again?(y/n)\")\n",
    "    if restart == \"y\" or restart == \"Y\":  \n",
    "        for key in board_keys:\n",
    "            theBoard[key] = \" \"\n",
    "\n",
    "        game()\n",
    "\n",
    "if __name__ == \"__main__\":\n",
    "    game()"
   ]
  },
  {
   "cell_type": "code",
   "execution_count": null,
   "metadata": {},
   "outputs": [],
   "source": []
  }
 ],
 "metadata": {
  "kernelspec": {
   "display_name": "Python 3",
   "language": "python",
   "name": "python3"
  },
  "language_info": {
   "codemirror_mode": {
    "name": "ipython",
    "version": 3
   },
   "file_extension": ".py",
   "mimetype": "text/x-python",
   "name": "python",
   "nbconvert_exporter": "python",
   "pygments_lexer": "ipython3",
   "version": "3.7.6"
  }
 },
 "nbformat": 4,
 "nbformat_minor": 4
}
